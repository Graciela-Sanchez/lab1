{
 "cells": [
  {
   "cell_type": "markdown",
   "id": "56d3afb4",
   "metadata": {},
   "source": [
    "# Laboratorio 1"
   ]
  },
  {
   "cell_type": "raw",
   "id": "888c8224",
   "metadata": {},
   "source": [
    "Problema 1"
   ]
  },
  {
   "cell_type": "code",
   "execution_count": 3,
   "id": "b200eab8",
   "metadata": {},
   "outputs": [
    {
     "name": "stdout",
     "output_type": "stream",
     "text": [
      "194.87171000000012\n"
     ]
    }
   ],
   "source": [
    "print(100*1.1**7)"
   ]
  },
  {
   "cell_type": "raw",
   "id": "85ec9b34",
   "metadata": {},
   "source": [
    "Problema 2"
   ]
  },
  {
   "cell_type": "code",
   "execution_count": 4,
   "id": "3314a683",
   "metadata": {},
   "outputs": [
    {
     "name": "stdout",
     "output_type": "stream",
     "text": [
      "100\n"
     ]
    }
   ],
   "source": [
    "ahorros=100\n",
    "print(ahorros)"
   ]
  },
  {
   "cell_type": "raw",
   "id": "d8d998aa",
   "metadata": {},
   "source": [
    "Problema 3"
   ]
  },
  {
   "cell_type": "code",
   "execution_count": 6,
   "id": "f0fdb648",
   "metadata": {},
   "outputs": [
    {
     "name": "stdout",
     "output_type": "stream",
     "text": [
      "194.87171000000012\n"
     ]
    }
   ],
   "source": [
    "ahorros=100\n",
    "mult_anual=1.1\n",
    "result=ahorros*mult_anual**7\n",
    "print(result)"
   ]
  },
  {
   "cell_type": "raw",
   "id": "0df58ca9",
   "metadata": {},
   "source": [
    "Problema 4"
   ]
  },
  {
   "cell_type": "code",
   "execution_count": 7,
   "id": "caf50bb4",
   "metadata": {},
   "outputs": [],
   "source": [
    "desc=\"cadena de texto\"\n",
    "profit=True"
   ]
  },
  {
   "cell_type": "code",
   "execution_count": 11,
   "id": "829fbe66",
   "metadata": {},
   "outputs": [
    {
     "name": "stdout",
     "output_type": "stream",
     "text": [
      "<class 'int'>\n",
      "<class 'float'>\n"
     ]
    }
   ],
   "source": [
    "print(type(3))\n",
    "var=2.0\n",
    "print(type(var))"
   ]
  },
  {
   "cell_type": "raw",
   "id": "78c0ba1b",
   "metadata": {},
   "source": [
    "Problema 5"
   ]
  },
  {
   "cell_type": "code",
   "execution_count": 12,
   "id": "d65ff36b",
   "metadata": {},
   "outputs": [
    {
     "name": "stdout",
     "output_type": "stream",
     "text": [
      "110.00000000000001\n"
     ]
    }
   ],
   "source": [
    "ahorros=100\n",
    "mult=1.1\n",
    "desc='interes compuesto'\n",
    "\n",
    "# Asignar el producto de ahorros y mult a años e imprimir\n",
    "año1=ahorros*mult_anual\n",
    "print(año1)"
   ]
  },
  {
   "cell_type": "code",
   "execution_count": 13,
   "id": "88847fd1",
   "metadata": {},
   "outputs": [
    {
     "name": "stdout",
     "output_type": "stream",
     "text": [
      "<class 'float'>\n"
     ]
    }
   ],
   "source": [
    "print(type(año1))"
   ]
  },
  {
   "cell_type": "code",
   "execution_count": 14,
   "id": "d8eac148",
   "metadata": {},
   "outputs": [
    {
     "name": "stdout",
     "output_type": "stream",
     "text": [
      "interes compuestointeres compuesto\n"
     ]
    }
   ],
   "source": [
    "dobledesc=desc+desc\n",
    "print(dobledesc)"
   ]
  },
  {
   "cell_type": "raw",
   "id": "edca011a",
   "metadata": {},
   "source": [
    "Problema 6"
   ]
  },
  {
   "cell_type": "code",
   "execution_count": 35,
   "id": "a1beabf1",
   "metadata": {},
   "outputs": [
    {
     "name": "stdout",
     "output_type": "stream",
     "text": [
      "Empezamos con $100y ahora mismo tengo $194.87171000000012. Que bien!\n"
     ]
    }
   ],
   "source": [
    "ahorros = 100\n",
    "resultado = 100*1.1**7\n",
    "\n",
    "\n",
    "print(\"Empezamos con $\"+str(ahorros)+\"y ahora mismo tengo $\" + str(resultado) + \". Que bien!\")"
   ]
  },
  {
   "cell_type": "code",
   "execution_count": 26,
   "id": "eba59aa3",
   "metadata": {},
   "outputs": [],
   "source": [
    "pi_string = \"3.1415926\"\n",
    "pi_float = float(pi_string)"
   ]
  }
 ],
 "metadata": {
  "kernelspec": {
   "display_name": "Python 3 (ipykernel)",
   "language": "python",
   "name": "python3"
  },
  "language_info": {
   "codemirror_mode": {
    "name": "ipython",
    "version": 3
   },
   "file_extension": ".py",
   "mimetype": "text/x-python",
   "name": "python",
   "nbconvert_exporter": "python",
   "pygments_lexer": "ipython3",
   "version": "3.9.12"
  }
 },
 "nbformat": 4,
 "nbformat_minor": 5
}
